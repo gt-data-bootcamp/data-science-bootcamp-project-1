{
 "cells": [
  {
   "cell_type": "code",
   "execution_count": 6,
   "id": "binding-confidentiality",
   "metadata": {},
   "outputs": [],
   "source": [
    "import os\n",
    "from functools import reduce\n",
    "import pandas as pd\n",
    "from datetime import datetime\n",
    "from dateutil.parser import parse\n",
    "#from math import log, floor\n",
    "#import csv\n",
    "import requests\n",
    "import json\n",
    "from collections import deque\n",
    "import numpy as np\n",
    "#from IPython.display import HTML\n",
    "%matplotlib inline\n",
    "import matplotlib.pyplot as plt\n",
    "from config import apikey"
   ]
  },
  {
   "cell_type": "code",
   "execution_count": 54,
   "id": "spatial-mauritius",
   "metadata": {},
   "outputs": [],
   "source": [
    "# Build the endpoint URL\n",
    "\n",
    "import requests\n",
    "\n",
    "version =  'v1'\n",
    "response = requests.get(\n",
    "    'https://api.propublica.org/congress/v1/117/senate/members.json',\n",
    "    headers={'X-API-Key': apikey},\n",
    ").content\n",
    "\n",
    "data = json.loads(response)\n",
    "\n",
    "\n",
    "members = data['results'][0]['members']\n",
    "\n",
    "\n",
    "# For Debug only,  comment out\n",
    "#for member in members:\n",
    "#    print(member['last_name'], member['state'], member['party'])\n",
    "\n",
    "\n",
    "membersdf = pd.DataFrame(members)\n"
   ]
  },
  {
   "cell_type": "code",
   "execution_count": 53,
   "id": "short-gardening",
   "metadata": {},
   "outputs": [
    {
     "data": {
      "text/plain": [
       "state  party\n",
       "AK     R        2\n",
       "AL     D        1\n",
       "       R        1\n",
       "AR     R        2\n",
       "AZ     D        2\n",
       "       R        1\n",
       "CA     D        2\n",
       "CO     D        1\n",
       "       R        1\n",
       "CT     D        2\n",
       "DE     D        2\n",
       "FL     R        2\n",
       "GA     R        3\n",
       "HI     D        2\n",
       "IA     R        2\n",
       "ID     R        2\n",
       "IL     D        2\n",
       "IN     R        2\n",
       "KS     R        2\n",
       "KY     R        2\n",
       "LA     R        2\n",
       "MA     D        2\n",
       "MD     D        2\n",
       "ME     ID       1\n",
       "       R        1\n",
       "MI     D        2\n",
       "MN     D        2\n",
       "MO     R        2\n",
       "MS     R        2\n",
       "MT     D        1\n",
       "       R        1\n",
       "NC     R        2\n",
       "ND     R        2\n",
       "NE     R        2\n",
       "NH     D        2\n",
       "NJ     D        2\n",
       "NM     D        2\n",
       "NV     D        2\n",
       "NY     D        2\n",
       "OH     D        1\n",
       "       R        1\n",
       "OK     R        2\n",
       "OR     D        2\n",
       "PA     D        1\n",
       "       R        1\n",
       "RI     D        2\n",
       "SC     R        2\n",
       "SD     R        2\n",
       "TN     R        2\n",
       "TX     R        2\n",
       "UT     R        2\n",
       "VA     D        2\n",
       "VT     D        1\n",
       "       ID       1\n",
       "WA     D        2\n",
       "WI     D        1\n",
       "       R        1\n",
       "WV     D        1\n",
       "       R        1\n",
       "WY     R        2\n",
       "Name: party, dtype: int64"
      ]
     },
     "execution_count": 53,
     "metadata": {},
     "output_type": "execute_result"
    }
   ],
   "source": [
    "membersdf.groupby(['state','party'])['party'].count()"
   ]
  },
  {
   "cell_type": "code",
   "execution_count": null,
   "id": "initial-center",
   "metadata": {},
   "outputs": [],
   "source": []
  }
 ],
 "metadata": {
  "kernelspec": {
   "display_name": "Python 3",
   "language": "python",
   "name": "python3"
  },
  "language_info": {
   "codemirror_mode": {
    "name": "ipython",
    "version": 3
   },
   "file_extension": ".py",
   "mimetype": "text/x-python",
   "name": "python",
   "nbconvert_exporter": "python",
   "pygments_lexer": "ipython3",
   "version": "3.8.7"
  }
 },
 "nbformat": 4,
 "nbformat_minor": 5
}
