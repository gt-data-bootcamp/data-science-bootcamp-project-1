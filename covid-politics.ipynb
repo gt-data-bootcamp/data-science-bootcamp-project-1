{
 "cells": [
  {
   "cell_type": "code",
   "execution_count": 10,
   "metadata": {},
   "outputs": [],
   "source": [
    "import os\n",
    "from functools import reduce\n",
    "import pandas as pd\n",
    "from datetime import datetime\n",
    "from dateutil.parser import parse\n",
    "#from math import log, floor\n",
    "#import csv\n",
    "import requests\n",
    "import json\n",
    "#from collections import deque\n",
    "import numpy as np\n",
    "#from IPython.display import HTML\n",
    "%matplotlib inline\n",
    "import matplotlib.pyplot as plt\n",
    "from config import apikey"
   ]
  },
  {
   "cell_type": "code",
   "execution_count": 26,
   "metadata": {},
   "outputs": [],
   "source": [
    "# Call congress info\n",
    "version =  'v1'\n",
    "response = requests.get(\n",
    "    'https://api.propublica.org/congress/v1/117/senate/members.json',\n",
    "    headers={'X-API-Key': apikey},\n",
    ").content\n",
    "\n",
    "data = json.loads(response)\n",
    "\n",
    "members = data['results'][0]['members']\n",
    "\n",
    "# For Debug only,  comment out\n",
    "#for member in members:\n",
    "#    print(member['last_name'], member['state'], member['party'])\n",
    "\n",
    "membersdf = pd.DataFrame(members)\n",
    "stategrpcts = membersdf.groupby(['state','party'])['party'].count()\n"
   ]
  },
  {
   "cell_type": "code",
   "execution_count": 30,
   "metadata": {},
   "outputs": [
    {
     "data": {
      "text/plain": [
       "state  party\n",
       "AK     R        2\n",
       "AL     R        2\n",
       "AR     R        2\n",
       "AZ     D        2\n",
       "CA     D        3\n",
       "Name: party, dtype: int64"
      ]
     },
     "execution_count": 30,
     "metadata": {},
     "output_type": "execute_result"
    }
   ],
   "source": [
    "# new_df = membersdf[membersdf['state'] == 'CA']\n",
    "# new_df.head()\n",
    "# membersdf.head()\n",
    "stategrpcts.head()"
   ]
  },
  {
   "cell_type": "code",
   "execution_count": 18,
   "metadata": {},
   "outputs": [
    {
     "name": "stdout",
     "output_type": "stream",
     "text": [
      "50\n"
     ]
    }
   ],
   "source": [
    "states = membersdf['state'].unique()\n",
    "print(len(states))\n"
   ]
  },
  {
   "cell_type": "code",
   "execution_count": 52,
   "metadata": {},
   "outputs": [
    {
     "ename": "AttributeError",
     "evalue": "'DataFrame' object has no attribute 'map'",
     "output_type": "error",
     "traceback": [
      "\u001b[0;31m---------------------------------------------------------------------------\u001b[0m",
      "\u001b[0;31mAttributeError\u001b[0m                            Traceback (most recent call last)",
      "\u001b[0;32m<ipython-input-52-9e412cc7fa07>\u001b[0m in \u001b[0;36m<module>\u001b[0;34m\u001b[0m\n\u001b[1;32m     15\u001b[0m \u001b[0;34m\u001b[0m\u001b[0m\n\u001b[1;32m     16\u001b[0m \u001b[0;34m\u001b[0m\u001b[0m\n\u001b[0;32m---> 17\u001b[0;31m \u001b[0mparty_df\u001b[0m\u001b[0;34m[\u001b[0m\u001b[0;34m'Color'\u001b[0m\u001b[0;34m]\u001b[0m \u001b[0;34m=\u001b[0m \u001b[0mparty_df\u001b[0m\u001b[0;34m[\u001b[0m\u001b[0;34m~\u001b[0m\u001b[0mparty_df\u001b[0m\u001b[0;34m.\u001b[0m\u001b[0mindex\u001b[0m\u001b[0;34m.\u001b[0m\u001b[0misin\u001b[0m\u001b[0;34m(\u001b[0m\u001b[0mcomplete_party_df\u001b[0m\u001b[0;34m)\u001b[0m\u001b[0;34m]\u001b[0m\u001b[0;34m.\u001b[0m\u001b[0mmap\u001b[0m\u001b[0;34m(\u001b[0m\u001b[0;32mlambda\u001b[0m \u001b[0mx\u001b[0m\u001b[0;34m:\u001b[0m \u001b[0;34m'Purple'\u001b[0m\u001b[0;34m)\u001b[0m\u001b[0;34m\u001b[0m\u001b[0;34m\u001b[0m\u001b[0m\n\u001b[0m\u001b[1;32m     18\u001b[0m \u001b[0mparty_df\u001b[0m\u001b[0;34m\u001b[0m\u001b[0;34m\u001b[0m\u001b[0m\n\u001b[1;32m     19\u001b[0m \u001b[0;31m# purple_party_series = party_df[]\u001b[0m\u001b[0;34m\u001b[0m\u001b[0;34m\u001b[0m\u001b[0;34m\u001b[0m\u001b[0m\n",
      "\u001b[0;32m/opt/anaconda3/lib/python3.8/site-packages/pandas/core/generic.py\u001b[0m in \u001b[0;36m__getattr__\u001b[0;34m(self, name)\u001b[0m\n\u001b[1;32m   5137\u001b[0m             \u001b[0;32mif\u001b[0m \u001b[0mself\u001b[0m\u001b[0;34m.\u001b[0m\u001b[0m_info_axis\u001b[0m\u001b[0;34m.\u001b[0m\u001b[0m_can_hold_identifiers_and_holds_name\u001b[0m\u001b[0;34m(\u001b[0m\u001b[0mname\u001b[0m\u001b[0;34m)\u001b[0m\u001b[0;34m:\u001b[0m\u001b[0;34m\u001b[0m\u001b[0;34m\u001b[0m\u001b[0m\n\u001b[1;32m   5138\u001b[0m                 \u001b[0;32mreturn\u001b[0m \u001b[0mself\u001b[0m\u001b[0;34m[\u001b[0m\u001b[0mname\u001b[0m\u001b[0;34m]\u001b[0m\u001b[0;34m\u001b[0m\u001b[0;34m\u001b[0m\u001b[0m\n\u001b[0;32m-> 5139\u001b[0;31m             \u001b[0;32mreturn\u001b[0m \u001b[0mobject\u001b[0m\u001b[0;34m.\u001b[0m\u001b[0m__getattribute__\u001b[0m\u001b[0;34m(\u001b[0m\u001b[0mself\u001b[0m\u001b[0;34m,\u001b[0m \u001b[0mname\u001b[0m\u001b[0;34m)\u001b[0m\u001b[0;34m\u001b[0m\u001b[0;34m\u001b[0m\u001b[0m\n\u001b[0m\u001b[1;32m   5140\u001b[0m \u001b[0;34m\u001b[0m\u001b[0m\n\u001b[1;32m   5141\u001b[0m     \u001b[0;32mdef\u001b[0m \u001b[0m__setattr__\u001b[0m\u001b[0;34m(\u001b[0m\u001b[0mself\u001b[0m\u001b[0;34m,\u001b[0m \u001b[0mname\u001b[0m\u001b[0;34m:\u001b[0m \u001b[0mstr\u001b[0m\u001b[0;34m,\u001b[0m \u001b[0mvalue\u001b[0m\u001b[0;34m)\u001b[0m \u001b[0;34m->\u001b[0m \u001b[0;32mNone\u001b[0m\u001b[0;34m:\u001b[0m\u001b[0;34m\u001b[0m\u001b[0;34m\u001b[0m\u001b[0m\n",
      "\u001b[0;31mAttributeError\u001b[0m: 'DataFrame' object has no attribute 'map'"
     ]
    }
   ],
   "source": [
    "## Assign Value for each state based on party \n",
    "party_df = stategrpcts.unstack()\n",
    "\n",
    "#Create a series with the map \n",
    "party_df['Color'] = party_df.D.map(lambda x: 'Blue' if x >= 2 else \"\")\n",
    "blue_party_series = party_df[party_df['Color'] == 'Blue']['Color']\n",
    "\n",
    "party_df['Color'] = party_df.R.map(lambda x: 'Red' if x >= 2 else \"\")\n",
    "red_party_series = party_df[party_df['Color'] == 'Red']['Color']\n",
    "\n",
    "party_df['Color'] = party_df.ID.map(lambda x: 'White' if x >= 2 else \"\")\n",
    "white_party_series = party_df[party_df['Color'] == 'White']['Color']\n",
    "\n",
    "complete_party_df = pd.concat([blue_party_series, red_party_series, white_party_series])\n",
    "\n",
    "# WHERE WE LEFT OFF --> Finish putting purple into series \n",
    "party_df['Color'] = party_df[~party_df.index.isin(complete_party_df)].map(lambda x: 'Purple')\n",
    "party_df\n",
    "# purple_party_series = party_df[]\n",
    "\n",
    "# complete_party_df\n",
    "# party_df['Color'] = party_df.ID.map(lambda x: 'White' if x >= 2 else \"\")\n",
    "# party_df\n",
    "# new_df = df.loc[df[“column”] == “unique variable”, :]\n",
    "\n"
   ]
  },
  {
   "cell_type": "code",
   "execution_count": 13,
   "metadata": {},
   "outputs": [
    {
     "data": {
      "text/html": [
       "<div>\n",
       "<style scoped>\n",
       "    .dataframe tbody tr th:only-of-type {\n",
       "        vertical-align: middle;\n",
       "    }\n",
       "\n",
       "    .dataframe tbody tr th {\n",
       "        vertical-align: top;\n",
       "    }\n",
       "\n",
       "    .dataframe thead th {\n",
       "        text-align: right;\n",
       "    }\n",
       "</style>\n",
       "<table border=\"1\" class=\"dataframe\">\n",
       "  <thead>\n",
       "    <tr style=\"text-align: right;\">\n",
       "      <th></th>\n",
       "      <th>submission_date</th>\n",
       "      <th>state</th>\n",
       "      <th>tot_cases</th>\n",
       "      <th>conf_cases</th>\n",
       "      <th>prob_cases</th>\n",
       "      <th>new_case</th>\n",
       "      <th>pnew_case</th>\n",
       "      <th>tot_death</th>\n",
       "      <th>conf_death</th>\n",
       "      <th>prob_death</th>\n",
       "      <th>new_death</th>\n",
       "      <th>pnew_death</th>\n",
       "      <th>created_at</th>\n",
       "      <th>consent_cases</th>\n",
       "      <th>consent_deaths</th>\n",
       "    </tr>\n",
       "  </thead>\n",
       "  <tbody>\n",
       "    <tr>\n",
       "      <th>0</th>\n",
       "      <td>2020-12-08T00:00:00.000</td>\n",
       "      <td>OK</td>\n",
       "      <td>205999</td>\n",
       "      <td>171497.0</td>\n",
       "      <td>34502</td>\n",
       "      <td>0.0</td>\n",
       "      <td>0</td>\n",
       "      <td>1752</td>\n",
       "      <td>1680.0</td>\n",
       "      <td>72</td>\n",
       "      <td>0.0</td>\n",
       "      <td>0</td>\n",
       "      <td>2020-12-09T14:45:40.234</td>\n",
       "      <td>Agree</td>\n",
       "      <td>Agree</td>\n",
       "    </tr>\n",
       "    <tr>\n",
       "      <th>1</th>\n",
       "      <td>2020-12-08T00:00:00.000</td>\n",
       "      <td>NYC</td>\n",
       "      <td>348211</td>\n",
       "      <td>315788.0</td>\n",
       "      <td>32423</td>\n",
       "      <td>4567.0</td>\n",
       "      <td>1671</td>\n",
       "      <td>24411</td>\n",
       "      <td>19694.0</td>\n",
       "      <td>4717</td>\n",
       "      <td>-5.0</td>\n",
       "      <td>-8</td>\n",
       "      <td>2020-12-09T14:45:40.234</td>\n",
       "      <td>Agree</td>\n",
       "      <td>Agree</td>\n",
       "    </tr>\n",
       "    <tr>\n",
       "      <th>2</th>\n",
       "      <td>2020-12-08T00:00:00.000</td>\n",
       "      <td>AR</td>\n",
       "      <td>174325</td>\n",
       "      <td>NaN</td>\n",
       "      <td>NaN</td>\n",
       "      <td>2283.0</td>\n",
       "      <td>846</td>\n",
       "      <td>2752</td>\n",
       "      <td>NaN</td>\n",
       "      <td>NaN</td>\n",
       "      <td>39.0</td>\n",
       "      <td>3</td>\n",
       "      <td>2020-12-09T14:45:40.234</td>\n",
       "      <td>Not agree</td>\n",
       "      <td>Not agree</td>\n",
       "    </tr>\n",
       "    <tr>\n",
       "      <th>3</th>\n",
       "      <td>2020-12-08T00:00:00.000</td>\n",
       "      <td>NY</td>\n",
       "      <td>385232</td>\n",
       "      <td>NaN</td>\n",
       "      <td>NaN</td>\n",
       "      <td>5874.0</td>\n",
       "      <td>0</td>\n",
       "      <td>10440</td>\n",
       "      <td>NaN</td>\n",
       "      <td>NaN</td>\n",
       "      <td>58.0</td>\n",
       "      <td>0</td>\n",
       "      <td>2020-12-09T14:45:40.234</td>\n",
       "      <td>Not agree</td>\n",
       "      <td>Not agree</td>\n",
       "    </tr>\n",
       "    <tr>\n",
       "      <th>4</th>\n",
       "      <td>2020-12-08T00:00:00.000</td>\n",
       "      <td>OH</td>\n",
       "      <td>510018</td>\n",
       "      <td>470721.0</td>\n",
       "      <td>39297</td>\n",
       "      <td>25721.0</td>\n",
       "      <td>13993</td>\n",
       "      <td>7103</td>\n",
       "      <td>6601.0</td>\n",
       "      <td>502</td>\n",
       "      <td>81.0</td>\n",
       "      <td>24</td>\n",
       "      <td>2020-12-09T14:45:40.234</td>\n",
       "      <td>Agree</td>\n",
       "      <td>Agree</td>\n",
       "    </tr>\n",
       "  </tbody>\n",
       "</table>\n",
       "</div>"
      ],
      "text/plain": [
       "           submission_date state tot_cases conf_cases prob_cases new_case  \\\n",
       "0  2020-12-08T00:00:00.000    OK    205999   171497.0      34502      0.0   \n",
       "1  2020-12-08T00:00:00.000   NYC    348211   315788.0      32423   4567.0   \n",
       "2  2020-12-08T00:00:00.000    AR    174325        NaN        NaN   2283.0   \n",
       "3  2020-12-08T00:00:00.000    NY    385232        NaN        NaN   5874.0   \n",
       "4  2020-12-08T00:00:00.000    OH    510018   470721.0      39297  25721.0   \n",
       "\n",
       "  pnew_case tot_death conf_death prob_death new_death pnew_death  \\\n",
       "0         0      1752     1680.0         72       0.0          0   \n",
       "1      1671     24411    19694.0       4717      -5.0         -8   \n",
       "2       846      2752        NaN        NaN      39.0          3   \n",
       "3         0     10440        NaN        NaN      58.0          0   \n",
       "4     13993      7103     6601.0        502      81.0         24   \n",
       "\n",
       "                created_at consent_cases consent_deaths  \n",
       "0  2020-12-09T14:45:40.234         Agree          Agree  \n",
       "1  2020-12-09T14:45:40.234         Agree          Agree  \n",
       "2  2020-12-09T14:45:40.234     Not agree      Not agree  \n",
       "3  2020-12-09T14:45:40.234     Not agree      Not agree  \n",
       "4  2020-12-09T14:45:40.234         Agree          Agree  "
      ]
     },
     "execution_count": 13,
     "metadata": {},
     "output_type": "execute_result"
    }
   ],
   "source": [
    "# Call covid info\n",
    "version =  'v1'\n",
    "response = requests.get(\n",
    "    'https://data.cdc.gov/resource/9mfq-cb36.json?created_at=2020-12-09T14:45:40.234'\n",
    ").content\n",
    "\n",
    "covid_data = json.loads(response)\n",
    "\n",
    "\n",
    "coviddf = pd.DataFrame(covid_data)\n",
    "coviddf.head()"
   ]
  },
  {
   "cell_type": "code",
   "execution_count": 14,
   "metadata": {},
   "outputs": [
    {
     "data": {
      "text/plain": [
       "submission_date    57\n",
       "state              57\n",
       "tot_cases          57\n",
       "conf_cases         32\n",
       "prob_cases         32\n",
       "new_case           57\n",
       "pnew_case          57\n",
       "tot_death          57\n",
       "conf_death         33\n",
       "prob_death         33\n",
       "new_death          57\n",
       "pnew_death         57\n",
       "created_at         57\n",
       "consent_cases      52\n",
       "consent_deaths     52\n",
       "dtype: int64"
      ]
     },
     "execution_count": 14,
     "metadata": {},
     "output_type": "execute_result"
    }
   ],
   "source": [
    "coviddf.count()"
   ]
  },
  {
   "cell_type": "code",
   "execution_count": 15,
   "metadata": {},
   "outputs": [
    {
     "data": {
      "text/plain": [
       "state        47\n",
       "tot_cases    47\n",
       "tot_death    47\n",
       "dtype: int64"
      ]
     },
     "execution_count": 15,
     "metadata": {},
     "output_type": "execute_result"
    }
   ],
   "source": [
    "covidstatesdf = coviddf[coviddf['state'].isin(states)][['state','tot_cases','tot_death']]\n",
    "covidstatesdf.count()"
   ]
  },
  {
   "cell_type": "code",
   "execution_count": null,
   "metadata": {},
   "outputs": [],
   "source": [
    "covidstatesdf.head()"
   ]
  },
  {
   "cell_type": "code",
   "execution_count": null,
   "metadata": {},
   "outputs": [],
   "source": []
  }
 ],
 "metadata": {
  "kernelspec": {
   "display_name": "Python 3",
   "language": "python",
   "name": "python3"
  },
  "language_info": {
   "codemirror_mode": {
    "name": "ipython",
    "version": 3
   },
   "file_extension": ".py",
   "mimetype": "text/x-python",
   "name": "python",
   "nbconvert_exporter": "python",
   "pygments_lexer": "ipython3",
   "version": "3.8.5"
  }
 },
 "nbformat": 4,
 "nbformat_minor": 5
}
